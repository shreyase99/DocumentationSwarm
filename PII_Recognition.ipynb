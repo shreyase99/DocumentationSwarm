{
  "nbformat": 4,
  "nbformat_minor": 0,
  "metadata": {
    "colab": {
      "name": "PII_Recognition.ipynb",
      "provenance": [],
      "collapsed_sections": [],
      "toc_visible": true,
      "mount_file_id": "1F0vCcYelf-s0bkM02WOgw4J5vWC5soXp",
      "authorship_tag": "ABX9TyMZWZrZ2HsG1UsQy774K6D/",
      "include_colab_link": true
    },
    "kernelspec": {
      "name": "python3",
      "display_name": "Python 3"
    }
  },
  "cells": [
    {
      "cell_type": "markdown",
      "metadata": {
        "id": "view-in-github",
        "colab_type": "text"
      },
      "source": [
        "<a href=\"https://colab.research.google.com/github/shreyase99/DocumentationSwarm/blob/master/PII_Recognition.ipynb\" target=\"_parent\"><img src=\"https://colab.research.google.com/assets/colab-badge.svg\" alt=\"Open In Colab\"/></a>"
      ]
    },
    {
      "cell_type": "code",
      "metadata": {
        "colab": {
          "base_uri": "https://localhost:8080/"
        },
        "id": "Pk__9iJlHslJ",
        "outputId": "720e5734-f05f-47d2-83c5-313ae4552ab4"
      },
      "source": [
        "!pip install presidio-analyzer\n",
        "from presidio_analyzer import Pattern\n",
        "from presidio_analyzer import PatternRecognizer\n",
        "\n",
        "\n"
      ],
      "execution_count": 64,
      "outputs": [
        {
          "output_type": "stream",
          "text": [
            "Requirement already satisfied: presidio-analyzer in /usr/local/lib/python3.6/dist-packages (0.3.9684.dev0)\n",
            "Requirement already satisfied: protobuf==3.8.0 in /usr/local/lib/python3.6/dist-packages (from presidio-analyzer) (3.8.0)\n",
            "Requirement already satisfied: tldextract==2.2.1 in /usr/local/lib/python3.6/dist-packages (from presidio-analyzer) (2.2.1)\n",
            "Requirement already satisfied: spacy==2.2.3 in /usr/local/lib/python3.6/dist-packages (from presidio-analyzer) (2.2.3)\n",
            "Requirement already satisfied: regex==2019.6.8 in /usr/local/lib/python3.6/dist-packages (from presidio-analyzer) (2019.6.8)\n",
            "Requirement already satisfied: knack==0.6.2 in /usr/local/lib/python3.6/dist-packages (from presidio-analyzer) (0.6.2)\n",
            "Requirement already satisfied: cython==0.29.10 in /usr/local/lib/python3.6/dist-packages (from presidio-analyzer) (0.29.10)\n",
            "Requirement already satisfied: grpcio==1.21.1 in /usr/local/lib/python3.6/dist-packages (from presidio-analyzer) (1.21.1)\n",
            "Requirement already satisfied: six>=1.9 in /usr/local/lib/python3.6/dist-packages (from protobuf==3.8.0->presidio-analyzer) (1.15.0)\n",
            "Requirement already satisfied: setuptools in /usr/local/lib/python3.6/dist-packages (from protobuf==3.8.0->presidio-analyzer) (50.3.2)\n",
            "Requirement already satisfied: requests>=2.1.0 in /usr/local/lib/python3.6/dist-packages (from tldextract==2.2.1->presidio-analyzer) (2.23.0)\n",
            "Requirement already satisfied: requests-file>=1.4 in /usr/local/lib/python3.6/dist-packages (from tldextract==2.2.1->presidio-analyzer) (1.5.1)\n",
            "Requirement already satisfied: idna in /usr/local/lib/python3.6/dist-packages (from tldextract==2.2.1->presidio-analyzer) (2.10)\n",
            "Requirement already satisfied: srsly<1.1.0,>=0.1.0 in /usr/local/lib/python3.6/dist-packages (from spacy==2.2.3->presidio-analyzer) (1.0.4)\n",
            "Requirement already satisfied: catalogue<1.1.0,>=0.0.7 in /usr/local/lib/python3.6/dist-packages (from spacy==2.2.3->presidio-analyzer) (1.0.0)\n",
            "Requirement already satisfied: numpy>=1.15.0 in /usr/local/lib/python3.6/dist-packages (from spacy==2.2.3->presidio-analyzer) (1.18.5)\n",
            "Requirement already satisfied: blis<0.5.0,>=0.4.0 in /usr/local/lib/python3.6/dist-packages (from spacy==2.2.3->presidio-analyzer) (0.4.1)\n",
            "Requirement already satisfied: murmurhash<1.1.0,>=0.28.0 in /usr/local/lib/python3.6/dist-packages (from spacy==2.2.3->presidio-analyzer) (1.0.4)\n",
            "Requirement already satisfied: thinc<7.4.0,>=7.3.0 in /usr/local/lib/python3.6/dist-packages (from spacy==2.2.3->presidio-analyzer) (7.3.1)\n",
            "Requirement already satisfied: cymem<2.1.0,>=2.0.2 in /usr/local/lib/python3.6/dist-packages (from spacy==2.2.3->presidio-analyzer) (2.0.4)\n",
            "Requirement already satisfied: preshed<3.1.0,>=3.0.2 in /usr/local/lib/python3.6/dist-packages (from spacy==2.2.3->presidio-analyzer) (3.0.4)\n",
            "Requirement already satisfied: plac<1.2.0,>=0.9.6 in /usr/local/lib/python3.6/dist-packages (from spacy==2.2.3->presidio-analyzer) (1.1.3)\n",
            "Requirement already satisfied: wasabi<1.1.0,>=0.4.0 in /usr/local/lib/python3.6/dist-packages (from spacy==2.2.3->presidio-analyzer) (0.8.0)\n",
            "Requirement already satisfied: argcomplete in /usr/local/lib/python3.6/dist-packages (from knack==0.6.2->presidio-analyzer) (1.12.2)\n",
            "Requirement already satisfied: colorama in /usr/local/lib/python3.6/dist-packages (from knack==0.6.2->presidio-analyzer) (0.4.4)\n",
            "Requirement already satisfied: pygments in /usr/local/lib/python3.6/dist-packages (from knack==0.6.2->presidio-analyzer) (2.6.1)\n",
            "Requirement already satisfied: jmespath in /usr/local/lib/python3.6/dist-packages (from knack==0.6.2->presidio-analyzer) (0.10.0)\n",
            "Requirement already satisfied: tabulate in /usr/local/lib/python3.6/dist-packages (from knack==0.6.2->presidio-analyzer) (0.8.7)\n",
            "Requirement already satisfied: pyyaml in /usr/local/lib/python3.6/dist-packages (from knack==0.6.2->presidio-analyzer) (3.13)\n",
            "Requirement already satisfied: urllib3!=1.25.0,!=1.25.1,<1.26,>=1.21.1 in /usr/local/lib/python3.6/dist-packages (from requests>=2.1.0->tldextract==2.2.1->presidio-analyzer) (1.24.3)\n",
            "Requirement already satisfied: chardet<4,>=3.0.2 in /usr/local/lib/python3.6/dist-packages (from requests>=2.1.0->tldextract==2.2.1->presidio-analyzer) (3.0.4)\n",
            "Requirement already satisfied: certifi>=2017.4.17 in /usr/local/lib/python3.6/dist-packages (from requests>=2.1.0->tldextract==2.2.1->presidio-analyzer) (2020.11.8)\n",
            "Requirement already satisfied: importlib-metadata>=0.20; python_version < \"3.8\" in /usr/local/lib/python3.6/dist-packages (from catalogue<1.1.0,>=0.0.7->spacy==2.2.3->presidio-analyzer) (2.0.0)\n",
            "Requirement already satisfied: tqdm<5.0.0,>=4.10.0 in /usr/local/lib/python3.6/dist-packages (from thinc<7.4.0,>=7.3.0->spacy==2.2.3->presidio-analyzer) (4.41.1)\n",
            "Requirement already satisfied: zipp>=0.5 in /usr/local/lib/python3.6/dist-packages (from importlib-metadata>=0.20; python_version < \"3.8\"->catalogue<1.1.0,>=0.0.7->spacy==2.2.3->presidio-analyzer) (3.4.0)\n"
          ],
          "name": "stdout"
        }
      ]
    },
    {
      "cell_type": "code",
      "metadata": {
        "id": "GlopHl2vfv6Y"
      },
      "source": [
        "import pandas as pd\n",
        "import numpy as np\n",
        "df = pd.read_csv (r'/content/reviewdatabase.csv')\n",
        "df['IndPhoneCount']=np.zeros(df.shape[0])\n",
        "df['IndDrivingCount']=np.zeros(df.shape[0])\n",
        "df['IndPANCount']=np.zeros(df.shape[0])\n",
        "df['IndUIDCount']=np.zeros(df.shape[0])\n",
        "df['IndPassportCount']=np.zeros(df.shape[0])\n",
        "df['IndVoterCount']=np.zeros(df.shape[0])\n"
      ],
      "execution_count": 73,
      "outputs": []
    },
    {
      "cell_type": "code",
      "metadata": {
        "colab": {
          "base_uri": "https://localhost:8080/"
        },
        "id": "0uNtBHmvXCpN",
        "outputId": "fa6df52b-28ab-4e9a-c162-ad60596080fe"
      },
      "source": [
        "#Phone\n",
        "CONTEXT = [\"phone\", \"number\", \"telephone\", \"cell\", \"mobile\", \"call\"]\n",
        "Landline_Regex = r'\\b[\\(\\+]*(91)*[ \\-\\)\\(]*0\\d{2}[ \\-\\)\\(]*\\d[ \\-\\)\\(]*\\d{3}[ \\-\\)\\(]*\\d{4}[\\)]*\\b'\n",
        "Mobile_Regex = r'\\b[\\(\\+]*(91)*[\\(\\) \\-]*[6-9]\\d{2}[\\(\\) \\-]*\\d{2}[\\(\\) \\-]*\\d[\\(\\) \\-]*\\d{4}[\\)]*\\b'\n",
        "Landline_Regex_Score = 0.55\n",
        "Mobile_Regex_Score = 0.55\n",
        "class INDPhoneRecognizer(PatternRecognizer):\n",
        "    \"Recognizes Indian Phone numbers using Regex\"\n",
        "\n",
        "    def __init__(self):\n",
        "        patterns = [Pattern('Phone (India Landline)', Landline_Regex,\n",
        "                            Landline_Regex_Score),\n",
        "                    Pattern('Phone (India Mobile)', Mobile_Regex,\n",
        "                            Mobile_Regex_Score)]\n",
        "        super().__init__(supported_entity = \"IND_PHONE_NUMBER\", patterns = patterns, context = CONTEXT)\n",
        "\n",
        "rec1=INDPhoneRecognizer()\n",
        "for index, row in df.iterrows():\n",
        "    df.at[index, \"IndPhoneCount\"]= len(rec1.analyze(text=str(row[\"Review\"]), entities=\"IND_PHONE_NUMBER\"))\n",
        "\n",
        "for index, row in df.iterrows():\n",
        "    if row[\"IndPhoneCount\"]!=0:\n",
        "        print(index, row[\"IndPhoneCount\"], \", \", row[\"Review\"])"
      ],
      "execution_count": 117,
      "outputs": [
        {
          "output_type": "stream",
          "text": [
            "[2020-11-24 15:56:10,638][presidio][INFO]Loaded recognizer: INDPhoneRecognizer\n",
            "[2020-11-24 15:56:10,899][presidio][WARNING][INDPhoneRecognizer]. NLP artifacts were not provided\n",
            "[2020-11-24 15:56:11,134][presidio][WARNING][INDPhoneRecognizer]. NLP artifacts were not provided\n",
            "[2020-11-24 15:56:11,716][presidio][WARNING][INDPhoneRecognizer]. NLP artifacts were not provided\n",
            "[2020-11-24 15:56:11,831][presidio][WARNING][INDPhoneRecognizer]. NLP artifacts were not provided\n",
            "[2020-11-24 15:56:11,846][presidio][WARNING][INDPhoneRecognizer]. NLP artifacts were not provided\n",
            "[2020-11-24 15:56:11,876][presidio][WARNING][INDPhoneRecognizer]. NLP artifacts were not provided\n",
            "[2020-11-24 15:56:11,954][presidio][WARNING][INDPhoneRecognizer]. NLP artifacts were not provided\n",
            "[2020-11-24 15:56:12,114][presidio][WARNING][INDPhoneRecognizer]. NLP artifacts were not provided\n",
            "[2020-11-24 15:56:12,148][presidio][WARNING][INDPhoneRecognizer]. NLP artifacts were not provided\n",
            "[2020-11-24 15:56:12,153][presidio][WARNING][INDPhoneRecognizer]. NLP artifacts were not provided\n",
            "[2020-11-24 15:56:12,227][presidio][WARNING][INDPhoneRecognizer]. NLP artifacts were not provided\n",
            "[2020-11-24 15:56:12,243][presidio][WARNING][INDPhoneRecognizer]. NLP artifacts were not provided\n",
            "[2020-11-24 15:56:13,546][presidio][WARNING][INDPhoneRecognizer]. NLP artifacts were not provided\n",
            "[2020-11-24 15:56:13,804][presidio][WARNING][INDPhoneRecognizer]. NLP artifacts were not provided\n",
            "[2020-11-24 15:56:13,978][presidio][WARNING][INDPhoneRecognizer]. NLP artifacts were not provided\n",
            "[2020-11-24 15:56:14,302][presidio][WARNING][INDPhoneRecognizer]. NLP artifacts were not provided\n",
            "[2020-11-24 15:56:14,666][presidio][WARNING][INDPhoneRecognizer]. NLP artifacts were not provided\n",
            "[2020-11-24 15:56:14,884][presidio][WARNING][INDPhoneRecognizer]. NLP artifacts were not provided\n",
            "[2020-11-24 15:56:14,938][presidio][WARNING][INDPhoneRecognizer]. NLP artifacts were not provided\n",
            "[2020-11-24 15:56:15,324][presidio][WARNING][INDPhoneRecognizer]. NLP artifacts were not provided\n",
            "[2020-11-24 15:56:15,808][presidio][WARNING][INDPhoneRecognizer]. NLP artifacts were not provided\n",
            "1058 1.0 ,  The below was my review when I purchased Fitbit Surge. When it's having trouble customer care does not pick the call. I hv no idea how to issue the warranty. It's really hurts when your 17k investment goes down the drain. If you are interested in wasting money please go ahead. Customer care number 08001004540 that doesn't respond or pick calls. The funny part such a big brand has only one helpline number I should hv got the doubt when purchasing it. It's one of the best product I have ever used. It tells me much to walk it even has gps and even tracks few other exercise. The best part is the Heart beat When I am running on the treadmill I kW how much faster I got to run to hit the fat burn rate. 2 negative Sometimes the steps taken are not actuate No Indian food list to tract your calories.\n",
            "2179 1.0 ,  Just like other bought the router after so much of research & amazon reviews . but finally disappointed .. I have bought this router from Amazon dated 27th January 2019, it was working perfectly till last week, now there is a problem with my connection. I am using PPOE connection from provider at Bangalore , it’s a 100 mbps plan, I was getting 48mbps on 2.4 Ghz Band  & 98mbps in 5 Ghz Band . Now I get 1p Mbps in 5Ghz Band & 5mbps in 2.4 Ghz band, Finally I connected directly to ISP modem , am getting 100 mbps & also connected through Ethernet port of tenda router , there also I get 100 mbps But when I connect through Wifi all I get speed is 10 mbps download & 98 mbps upload, I called your support number , bit it’s not working . I called Tenda support number : 011 30890072, there is no dial tone nor the line is dead. Tenda is offereing 3 years warranty, i have also emailed all the issues to 'support.in@tenda.com.cn' there also no reply. Disappointed with this router..\n",
            "4821 1.0 ,  This Is An Awesome Product..Thank You Amazon :) Please Buy It Guys it is original product and fully safe delivery without any problems..... Love it Want to Watch Unboxing Video Contact Me On WhatsApp +919635673879\n",
            "5376 3.0 ,  name:samir nandi Comments: Your preferred phone number: 9432691299 Your name as displayed in Last four digits of orderId: 1927 URL to message: this is to inform you that i had ordered nikon D5600 DSLR camera through amazon. i recieved the delivery on 7th july 2019. when i opened the package i was surprised to find that instead of the camera there was a Borosil toaster. As a proof i have the unboxing video with me. my order number 403-767454-2481927 order date is 06/07/2019 i have also made a complaint to the consumer forum. my complaint ID is 1476282 I would be really glad if you could look into the matter as soon as possible. thanking you Samir Nandi 9432691299 Additional information to help us research your issue (optional): this is to inform you that i had ordered nikon D5600 DSLR camera through amazon. i recieved the delivery on 7th july 2019. when i opened the package i was surprised to find that instead of the camera there was a Borosil toaster. As a proof i have the unboxing video with me. my order number 403-767454-2481927 order date is 06/07/2019 i have also made a complaint to the consumer forum. my complaint ID is 1476282 I would be really glad if you could look into the matter as soon as possible. thanking you Samir Nandi 9432691299\n",
            "5422 1.0 ,  I bought it instead of mi camera since it is not chineese but I'm extremely disappointed as it fails to detect wifi and Continuously blinks - in a day it hardly works for 10 minutes, where as with the same wifi my other Mi camera is working perfectly all right Can you please take it back and refund money Jayant Goenka 9830258366\n",
            "5526 3.0 ,  name:samir nandi Comments: Your preferred phone number: 9432691299 Your name as displayed in Last four digits of orderId: 1927 URL to message: this is to inform you that i had ordered nikon D5600 DSLR camera through amazon. i recieved the delivery on 7th july 2019. when i opened the package i was surprised to find that instead of the camera there was a Borosil toaster. As a proof i have the unboxing video with me. my order number 403-767454-2481927 order date is 06/07/2019 i have also made a complaint to the consumer forum. my complaint ID is 1476282 I would be really glad if you could look into the matter as soon as possible. thanking you Samir Nandi 9432691299 Additional information to help us research your issue (optional): this is to inform you that i had ordered nikon D5600 DSLR camera through amazon. i recieved the delivery on 7th july 2019. when i opened the package i was surprised to find that instead of the camera there was a Borosil toaster. As a proof i have the unboxing video with me. my order number 403-767454-2481927 order date is 06/07/2019 i have also made a complaint to the consumer forum. my complaint ID is 1476282 I would be really glad if you could look into the matter as soon as possible. thanking you Samir Nandi 9432691299\n",
            "5876 1.0 ,  I bought sanyo 2 ton ac from amazon. I got that in january. Panasonic team have installed that, and i paid complete for everything. At installation time, they tested that, and ac did not make any cooling. Then they said its because, its winter already. It will work fin in summers. So i believed them. Now in summers, i turned that on and its still not making any cooling. I am constantly calling to panasonic customer care, but number is alway always busy. And nobody is responsing from their side. I have installed and raised a complaint thru ecarewiz panasonic app to. Still nothing happened. I am not giving low stars for now. Hope it would work great. Waiting for call 9811988752 Vikas, delhi.\n",
            "6718 1.0 ,  a very bad experience donot buy third class quality waste of money we suffered lot compression is not working properly pcb change twice with in 8 months worse cooling . demanding for replace the defective piece but call center not cooperating even service center not replacing as it was in deal and in gurantee period .service manager mr pramod rai (contact no 8010394504 ) this is very rude and greedy person give solution give 3000 rs more we will increase ur gurantee period help center said they will look the matter and make fridge replace till now nothing has happen . we are planning to put the case in consumer forum\n",
            "6871 1.0 ,  BAJAJ NEW SHAKTI 25 LITRE. Product was delivered on time. I called bajaj electricals call centre for installation at 5:50pm on 10th october 2020, and just after 20 minutes service man called me for installation, as he was in my area only, he reached at my home in just 10 min. Means from calling call centre of bajaj for installation to service man reached at my home was just about 30 min on the date of delivery itself. SUPERFAST INSTALLATION SERVICE BY BAJAJ. THANK YOU :) Now let me clear some minor things about this geyser. 1 - INSTALLATION is FREE 2 - TWO PIPES are also FREE with this geyser model 3 - service man will only charge for thin pin plug 60 rs & fasteners for 40 rs, total 100rs. no extra charge. 4 - PIPES are not inside the box which you received, they will be brought up by service man at the time of installation. NOTE - IF service man asked for installation fees and pipe fees, you direct call at bajaj customer care number 02241280000 (JAGO GARHAK JAGO) i have attached the pipes photo too, they are original from bajaj company. my geyser installation took around 10 min to install. everything was quick nd perfect :) also working perfectly :) THANK YOU BAJAJ :)\n",
            "6877 6.0 ,  Within few weeks, product stopped working. I tried calling many numbers of Bajaj (Pune/Mumbai region) as below with no success of product repair till date even through in warranty (Warranty : 2 years on product and 5 years on inner tank ). I also received multiple official service request nos - request 17575603 when talked to Khushbu calling this no 18001035963, Request PUN3005190017529077-1 calling another landline number 07410027794. In addition, we tried calling number of Bajaj service folks including managers such as ASIC manager Mayur Suryavanshi on 8805412114/8669174597, ASIC Amit Halwalkar on 7208052264, Shrikant Murkute on 9561050199, Santhosh Ithape on 2261107843. We also called Pune service no 022-41280000 many times and talked to number of associates who all assured service in a day or two, but no success till date. I request everyone to beware of this seller, product and now company too after this horrible experience. I always valued company Bajaj Electricals but sincerely regret buying their product this time and will never buy it again in future.\n",
            "7233 1.0 ,  My name is Satyaveer, i have purchased Bajaj DX 7 1000-Watt Dry Iron on 17/09/2019, through amazon seller name is Cloudtail India Private Limited (Rect/Killa Nos. 38//8/2 min, 192//22/1,196//2/1/1, 37//15/1, 15/2,, Adjacent to Starex School, Village - Binola, National Highway -8, Tehsil - Manesar Gurgaon, Haryana, 122413) . For your information it's been not an 1 month purchasing the Bajaj DX 7 1000-Watt Dry Iron  and after using 5 days, it's not working now, i had call lot of times last 4 days on the Bajaj's helpline no. 022 - 4128 0000 & 18001025963  but i didn't received call or not give proper answers from them.  i would really appreciate if you could look into the issue and do the needful and I humbly request you to please resolve this issue as soon as possible.\n",
            "7282 1.0 ,  We have ordered Prestige Induction Plate on 27th July 2018, Order Number 17151722342608350, we have received a faulty product we want to replace the same. Thanks and regards Deepak Gawde +91 8169011408\n",
            "14345 1.0 ,  Product is not good at all. When I recd. this watch it is already not working. I changed new cells but after 2 weeks again its not working. I show the watch to watch repair showroom he said needle of the watch not good, that's why watch not working again and again. Not satisfy with the product. Want to change it. Please reply. Your immediate response is highly appreciated. Regards, Manisha 7302434369\n",
            "15855 1.0 ,  I had bought the item from this seller, but there was some fault in the item.I replace the item..... but this item i got worse than before...... overall very bad experience😑. I am not happy with this purchase. Rita Sharma mo.9795311701\n",
            "16900 1.0 ,  Myself navin I bought this shoe for my mother size 5 but this is too large I am requesting u to pls exchange my shoe and deliverd size 4 because this is useless for my mother pls exchange it over all pls buy this shoe 1 size small to normal My contact no 9835669696\n",
            "18676 2.0 ,  Dear Sir, I bought this product on 23-07-16, which guarantee is two year. This is not working now. I want to refund or replacement for this product. Kindly do the needful for pickup the product. Thanking You Regards Ramesh Chandra Gupta Mob 7827003967, 9873539860\n",
            "20567 1.0 ,  Call me back on 9958522828 This particular iteam seal was open Someone used this item before delivering\n",
            "21688 1.0 ,  Received Ancy Dry Fruits Premium Dried Afghani Anjeer 500g (2x250g)-without date & air -tight packing.Packing quality should be improved like middle picture of another product(Nitrogen gas filled packing),so that it's freshness may be improved resulting customer satisfaction.In the packing date:mentioned 2020 which in vague.I received it in Aug.2020,then it's date should be either July 20 or Aug 20.Use before date is to be also mentioned on the product packing. Supplier may contact further view  on 8210127395 for further improvement.\n",
            "21981 1.0 ,  1. For the price of 399 rs this headband is very costly. 2. After using it for a week, the headband has become loose and also it's not sweat absorbant as mentioned by the seller. 3. I got a scam call from the seller saying if i'll do shopping from Amazon worth Rs. 5000 from their seller, they will give me a expensive gift out of the five options they gave me, i'm also mentioning the phone number from which i got the call. +918335924147 Do not waste your money on this headband, there are many good options available in the market costing less than this band.\n",
            "24058 1.0 ,  Hai All I am Anish Antony My number :7907483375 Place : Kerala Actually the product is made the material quality is ok but when we use it on a continuous rain or in case of heavy water fall means for a short rain also the water can enter inside the tent and it will spoil all things inside the tent it's not that much water resistant as the mentioned in the ad, -the stiching was so poor in corner -means the conners is easily get water inside it is ok to use in 1.normal cold climate without rain, 2.in a foggy situation 3.night it cannot be used 1.on a summer time because it's too much hot inside the tent and no one can stay inside the tent 2. in a sunny day and 3.hot place 4. Rainy time Extra things need to purchase 1. An extra thick bed or blanket because the bottom layer is so thin 2 . A hammer to fix the tent in ground 3. A light for night Benefits 1. Good for outside sleep at night 2. Good ventilation 3. Mosquito net is installed 4. Comfortable for two normal adults 5. 40% water resistant 6. 80% value for money 7. 65. Mind satisfaction Feel free to contact me further information if you need to know about it\n",
            "26522 1.0 ,  I am a monthly subscriber of Himalaya diapers. This time I have received a worst product (diapers) in this year... There is no absorbency , the leakage in the diaper is on very very high level, along with the softness is on its worst ever. It doesn't seem to be a Himalaya product. On reviewing the complete product I found this time manufacturer is Swara , however earlier the manufacturer was Nobel.. Could you please resolve my issue else I would need to cancel the subscription of Himalaya diapers... I will also raise this concern on Himalaya website... Thanks, Kashif Khan Mo no. 9268132649\n"
          ],
          "name": "stdout"
        }
      ]
    },
    {
      "cell_type": "code",
      "metadata": {
        "colab": {
          "base_uri": "https://localhost:8080/"
        },
        "id": "3RepL8oOyse0",
        "outputId": "6a757f62-ddbe-43b2-e8b0-d253bd3fe9f1"
      },
      "source": [
        "#Driving\n",
        "REGEX = r'\\b(AN|AP|AR|AS|BR|CH|DN|DD|DL|GA|GJ|HR|HP|JK|KA|KL|LD|MP|MH|MN|ML|MZ|NL|OR|PY|PN|RJ|SK|TN|TR|UP|WB|an|ap|ar|as|br|ch|dn|dd|dl|ga|gj|hr|hp|jk|ka|kl|ld|mp|mh|mn|ml|mz|nl|or|py|pn|rj|sk|tn|tr|up|wb){1}[ -]*\\d{2}[ -]*(19|20)\\d{2}[ -]*\\d{7}\\b'\n",
        "CONTEXT = [\"driving\",\"license\",\"india\",\"driver\", \"license\", \"permit\", \"lic\", \"identification\",\n",
        "    \"dl\", \"dls\", \"cdls\", \"id\", \"lic#\", \"driving\"]\n",
        "\n",
        "\n",
        "class INDLicenseRecognizer(PatternRecognizer):\n",
        "    \"\"\"\n",
        "    Recognizes Indian Driving License number using regex\n",
        "    \"\"\"\n",
        "\n",
        "    def __init__(self):\n",
        "        patterns = [Pattern('Driver License ', REGEX, 0.7) ]\n",
        "        super().__init__(supported_entity=\"IND_DRIVER_LICENSE\", patterns=patterns,\n",
        "                         context=CONTEXT)\n",
        "rec2=INDLicenseRecognizer()\n",
        "for index, row in df.iterrows():\n",
        "    df.at[index, \"IndDrivingCount\"]= len(rec2.analyze(text=str(row[\"Review\"]), entities=\"IND_DRIVER_LICENSE\"))\n",
        "\n",
        "for index, row in df.iterrows():\n",
        "  if row[\"IndDrivingCount\"]!=0:\n",
        "    print(index, row[\"IndDrivingCount\"], \", \", row[\"Review\"])\n"
      ],
      "execution_count": 101,
      "outputs": [
        {
          "output_type": "stream",
          "text": [
            "[2020-11-24 15:35:59,248][presidio][INFO]Loaded recognizer: INDLicenseRecognizer\n"
          ],
          "name": "stdout"
        }
      ]
    },
    {
      "cell_type": "code",
      "metadata": {
        "colab": {
          "base_uri": "https://localhost:8080/"
        },
        "id": "7HLNPcxYzA4B",
        "outputId": "b70a3e6f-ede2-4b0f-d481-2cc6276cc281"
      },
      "source": [
        "#PAN\n",
        "REGEX = r'\\b[a-zA-Z]{3}(P|C|H|A|B|G|J|L|F|T|p|c|h|a|b|g|j|l|f|t){1}[a-zA-Z]\\d{4}[a-zA-Z]\\b'\n",
        "CONTEXT = [\"permanent\",\"account\",\"number\",\"PAN\",\"card\",\"india\",\"pan\"]\n",
        "\n",
        "\n",
        "class INDPANRecognizer(PatternRecognizer):\n",
        "    \"\"\"\n",
        "    Recognizes Indian Pan Card number using regex\n",
        "    \"\"\"\n",
        "\n",
        "    def __init__(self):\n",
        "        patterns = [Pattern('PAN Card ', REGEX, 0.5) ]\n",
        "        super().__init__(supported_entity=\"IND_PAN_CARD\", patterns=patterns,\n",
        "                         context=CONTEXT)\n",
        "\n",
        "rec3=INDPANRecognizer()\n",
        "for index, row in df.iterrows():\n",
        "    df.at[index, \"IndPANCount\"]= len(rec3.analyze(text=str(row[\"Review\"]), entities=\"IND_PAN_CARD\"))\n",
        "\n",
        "for index, row in df.iterrows():\n",
        "  if row[\"IndPANCount\"]!=0:\n",
        "    print(index, row[\"IndPANCount\"], \", \", row[\"Review\"])\n"
      ],
      "execution_count": 102,
      "outputs": [
        {
          "output_type": "stream",
          "text": [
            "[2020-11-24 15:37:50,406][presidio][INFO]Loaded recognizer: INDPANRecognizer\n"
          ],
          "name": "stdout"
        }
      ]
    },
    {
      "cell_type": "code",
      "metadata": {
        "colab": {
          "base_uri": "https://localhost:8080/"
        },
        "id": "chsPHvDqzR6Q",
        "outputId": "d252b5d5-99d2-47a1-e787-67e08f16822e"
      },
      "source": [
        "#UID\n",
        "REGEX = r'\\b[2-9]\\d{3}[ \\-]*\\d{4}[ \\-]*\\d{4}(?!=\\d)\\b'\n",
        "CONTEXT = [\"aadhar\",\"adhar\",\"UID\",\"India\",\"UIDAI\",\"card\",\"personal\",\"identification\",\"number\"]\n",
        "\n",
        "\n",
        "class INDAadharRecognizer(PatternRecognizer):\n",
        "    \"\"\"\n",
        "    Recognizes Indian Aadhar card number using regex\n",
        "    \"\"\"\n",
        "\n",
        "    def __init__(self):\n",
        "        patterns = [Pattern('Aadhar Card ', REGEX, 0.55) ]\n",
        "        super().__init__(supported_entity=\"IND_AADHAR_CARD\", patterns=patterns,\n",
        "                         context=CONTEXT)\n",
        "\n",
        "rec4=INDAadharRecognizer()\n",
        "for index, row in df.iterrows():\n",
        "    df.at[index, \"IndUIDCount\"]= len(rec4.analyze(text=str(row[\"Review\"]), entities=\"IND_AADHAR_CARD\"))\n",
        "\n",
        "for index, row in df.iterrows():\n",
        "  if row[\"IndUIDCount\"]!=0:\n",
        "    print(index, row[\"IndUIDCount\"], \", \", row[\"Review\"])"
      ],
      "execution_count": 105,
      "outputs": [
        {
          "output_type": "stream",
          "text": [
            "[2020-11-24 15:41:54,070][presidio][INFO]Loaded recognizer: INDAadharRecognizer\n",
            "[2020-11-24 15:41:54,811][presidio][WARNING][INDAadharRecognizer]. NLP artifacts were not provided\n",
            "[2020-11-24 15:41:57,178][presidio][WARNING][INDAadharRecognizer]. NLP artifacts were not provided\n",
            "1.0 ,  This Is An Awesome Product..Thank You Amazon :) Please Buy It Guys it is original product and fully safe delivery without any problems..... Love it Want to Watch Unboxing Video Contact Me On WhatsApp +919635673879 4821\n",
            "1.0 ,  1. For the price of 399 rs this headband is very costly. 2. After using it for a week, the headband has become loose and also it's not sweat absorbant as mentioned by the seller. 3. I got a scam call from the seller saying if i'll do shopping from Amazon worth Rs. 5000 from their seller, they will give me a expensive gift out of the five options they gave me, i'm also mentioning the phone number from which i got the call. +918335924147 Do not waste your money on this headband, there are many good options available in the market costing less than this band. 21981\n"
          ],
          "name": "stdout"
        }
      ]
    },
    {
      "cell_type": "code",
      "metadata": {
        "colab": {
          "base_uri": "https://localhost:8080/"
        },
        "id": "65j0kL71zW8i",
        "outputId": "c6b70719-3d1c-420e-ee3a-3bc610b371d4"
      },
      "source": [
        "#Passport\n",
        "WEAK_REGEX = r'\\b[a-zA-Z]\\d{7}\\b'\n",
        "CONTEXT = [\"passport\",\"india\",\"visa\",\"travel\",\"document\"]\n",
        "\n",
        "\n",
        "class INDPassportRecognizer(PatternRecognizer):\n",
        "    \"\"\"\n",
        "    Recognizes Indian Passport number using regex\n",
        "    \"\"\"\n",
        "\n",
        "    def __init__(self):\n",
        "        patterns = [Pattern('Passport ', WEAK_REGEX, 0.3) ]\n",
        "        super().__init__(supported_entity=\"IND_PASSPORT\", patterns=patterns,\n",
        "                         context=CONTEXT)\n",
        "        \n",
        "rec5=INDPassportRecognizer()\n",
        "for index, row in df.iterrows():\n",
        "    df.at[index, \"IndPassportCount\"]= len(rec5.analyze(text=str(row[\"Review\"]), entities=\"IND_PASSPORT\"))\n",
        "\n",
        "for index, row in df.iterrows():\n",
        "  if row[\"IndPassportCount\"]!=0:\n",
        "    print(index, row[\"IndPassportCount\"], \", \", row[\"Review\"])"
      ],
      "execution_count": 113,
      "outputs": [
        {
          "output_type": "stream",
          "text": [
            "[2020-11-24 15:48:28,757][presidio][INFO]Loaded recognizer: INDPassportRecognizer\n"
          ],
          "name": "stdout"
        }
      ]
    },
    {
      "cell_type": "code",
      "metadata": {
        "colab": {
          "base_uri": "https://localhost:8080/"
        },
        "id": "AXsvYQEszxuY",
        "outputId": "73a5c834-18b1-4ce7-8b24-57185bef2cb0"
      },
      "source": [
        "#Voter\n",
        "REGEX = r'\\b([a-zA-Z]){3}([0-9]){7}?\\b'\n",
        "CONTEXT = [\"voter\",\"vote\",\"identity\",\"card\",\"epic\"]\n",
        "\n",
        "\n",
        "class INDEPICRecognizer(PatternRecognizer):\n",
        "    \"\"\"\n",
        "    Recognizes Indian voter card number using regex\n",
        "    \"\"\"\n",
        "\n",
        "    def __init__(self):\n",
        "        patterns = [Pattern('Voter card(EPIC) number ', REGEX, 0.3) ]\n",
        "        super().__init__(supported_entity=\"IND_VOTER_CARD\", patterns=patterns,\n",
        "                         context=CONTEXT)\n",
        "\n",
        "rec6=INDEPICRecognizer()\n",
        "for index, row in df.iterrows():\n",
        "    df.at[index, \"IndVoterCount\"]= len(rec6.analyze(text=str(row[\"Review\"]), entities=\"IND_VOTER_CARD\"))\n",
        "\n",
        "for index, row in df.iterrows():\n",
        "  if row[\"IndVoterCount\"]!=0:\n",
        "    print(index, row[\"IndVoterCount\"], \", \", row[\"Review\"])\n"
      ],
      "execution_count": 112,
      "outputs": [
        {
          "output_type": "stream",
          "text": [
            "[2020-11-24 15:48:18,369][presidio][INFO]Loaded recognizer: INDEPICRecognizer\n"
          ],
          "name": "stdout"
        }
      ]
    },
    {
      "cell_type": "code",
      "metadata": {
        "id": "bLDDQBdZ-JkN"
      },
      "source": [
        "#Save CSV\n",
        "\n",
        "df.to_csv(\"/content/drive/MyDrive/reviewdatabase_PII_Ind.csv\")"
      ],
      "execution_count": 123,
      "outputs": []
    }
  ]
}